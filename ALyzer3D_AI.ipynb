{
  "nbformat": 4,
  "nbformat_minor": 0,
  "metadata": {
    "colab": {
      "provenance": [],
      "gpuType": "T4",
      "include_colab_link": true
    },
    "kernelspec": {
      "name": "python3",
      "display_name": "Python 3"
    },
    "language_info": {
      "name": "python"
    },
    "accelerator": "GPU"
  },
  "cells": [
    {
      "cell_type": "markdown",
      "metadata": {
        "id": "view-in-github",
        "colab_type": "text"
      },
      "source": [
        "<a href=\"https://colab.research.google.com/github/pcmay/ALyzer3D.AI/blob/main/ALyzer3D_AI.ipynb\" target=\"_parent\"><img src=\"https://colab.research.google.com/assets/colab-badge.svg\" alt=\"Open In Colab\"/></a>"
      ]
    },
    {
      "cell_type": "markdown",
      "source": [
        "\n",
        "\n",
        "<div style=\"display: flex; justify-content: space-between; align-items: center;\">\n",
        "<img src=\"https://raw.githubusercontent.com/petercmay89/ALyzer3D.AI/main/white.png\" width=\"10%\">\n",
        "<img src=\"https://raw.githubusercontent.com/petercmay89/ALyzer3D.AI/main/ALyzer3D.AI_logo.png\" width=\"25%\">\n",
        "<img src=\"https://raw.githubusercontent.com/petercmay89/ALyzer3D.AI/main/white.png\" width=\"25%\">\n",
        "<img src=\"https://raw.githubusercontent.com/petercmay89/ALyzer3D.AI/main/ColabFold_logo.png\" width=\"25%\">\n",
        "<img src=\"https://raw.githubusercontent.com/petercmay89/ALyzer3D.AI/main/white.png\" width=\"10%\">\n",
        "</div>\n",
        "\n",
        "\n",
        "\n",
        "Welcome to **ALyzer3D.AI**. This notebook allows you to predict the amyloidogenicity of a VJ region of a light chain by first generating its 3D structure with [ColabFold](https://colab.research.google.com/github/sokrypton/ColabFold/blob/main/AlphaFold2.ipynb) and then automatically analyzing it with the ALyzer3D.AI model.\n",
        "\n",
        "**Instructions:**\n",
        "\n",
        "1. **Enter Your Sequence**: In the first cell (Input protein sequence), paste the amino acid sequence of your light chain's VJ region.\n",
        "2. **Run Everything**: Click on the menu Runtime -> Run all.\n",
        "\n",
        "The notebook will now execute all the steps for you: it will install dependencies, run the ColabFold structure prediction, and finally, perform the ALyzer3D.AI analysis on the resulting top-ranked structure. The final prediction will be displayed at the bottom of the page.\n",
        "\n",
        "\n",
        "\n"
      ],
      "metadata": {
        "id": "pJdK4usLGCy5"
      }
    },
    {
      "cell_type": "code",
      "execution_count": null,
      "metadata": {
        "cellView": "form",
        "id": "qtqL6vOaFB5h"
      },
      "outputs": [],
      "source": [
        "#@title Input protein sequence(s), then hit `Runtime` -> `Run all`\n",
        "from google.colab import files\n",
        "import os\n",
        "import re\n",
        "import hashlib\n",
        "\n",
        "# --- User Input ---\n",
        "query_sequence = 'QSVLTQPISASGTPGQRVSISCSGGYYNIRTNTVHWYQQLPGTAPKLLIYNNDQRPSGVPDRFSGSKSGPSASLAIGGLLSEDEADYYCATWDDSLNGPVFGGGTKL' #@param {type:\"string\"}\n",
        "\n",
        "# --- Hardcoded Parameters ---\n",
        "jobname = \"prediction\"\n",
        "# Remove whitespaces and sanitize jobname\n",
        "query_sequence = \"\".join(query_sequence.split())\n",
        "basejobname = re.sub(r'\\W+', '', jobname)\n",
        "# Create a unique jobname by hashing the sequence\n",
        "jobname = f\"{basejobname}_{hashlib.sha1(query_sequence.encode()).hexdigest()[:5]}\"\n",
        "\n",
        "# Create a directory for the job\n",
        "os.makedirs(jobname, exist_ok=True)\n",
        "\n",
        "# Save the sequence to a query file\n",
        "queries_path = os.path.join(jobname, f\"{jobname}.csv\")\n",
        "with open(queries_path, \"w\") as text_file:\n",
        "    text_file.write(f\"id,sequence\\n{jobname},{query_sequence}\")\n",
        "\n",
        "print(f\"Job Name: {jobname}\")\n",
        "print(f\"Sequence Length: {len(query_sequence.replace(':', ''))}\")"
      ]
    },
    {
      "cell_type": "code",
      "source": [
        "#@title Install Dependencies\n",
        "%%time\n",
        "import os\n",
        "\n",
        "if not os.path.isfile(\"COLABFOLD_READY\"):\n",
        "    print(\"Installing ColabFold...\")\n",
        "    os.system(\"pip install -q --no-warn-conflicts 'colabfold[alphafold-minus-jax] @ git+https://github.com/sokrypton/ColabFold'\")\n",
        "    os.system(\"ln -s /usr/local/lib/python3.*/dist-packages/colabfold colabfold\")\n",
        "    os.system(\"ln -s /usr/local/lib/python3.*/dist-packages/alphafold alphafold\")\n",
        "    os.system(\"touch COLABFOLD_READY\")\n",
        "\n",
        "print(\"Dependencies are installed.\")"
      ],
      "metadata": {
        "cellView": "form",
        "id": "oYiCqOIsFf4f"
      },
      "execution_count": null,
      "outputs": []
    },
    {
      "cell_type": "code",
      "source": [
        "#@title Run ColabFold Prediction\n",
        "import sys\n",
        "import warnings\n",
        "warnings.simplefilter(action='ignore', category=FutureWarning)\n",
        "from Bio import BiopythonDeprecationWarning\n",
        "warnings.simplefilter(action='ignore', category=BiopythonDeprecationWarning)\n",
        "from pathlib import Path\n",
        "from colabfold.download import download_alphafold_params\n",
        "from colabfold.utils import setup_logging\n",
        "from colabfold.batch import get_queries, run, set_model_type\n",
        "import os\n",
        "\n",
        "# Warn if using a K80 GPU\n",
        "try:\n",
        "    K80_chk = os.popen('nvidia-smi | grep \"Tesla K80\" | wc -l').read()\n",
        "    if \"1\" in K80_chk:\n",
        "        print(\"WARNING: Found GPU Tesla K80: limited to total length < 1000\")\n",
        "except:\n",
        "    pass\n",
        "\n",
        "# Setup logging\n",
        "result_dir = jobname\n",
        "log_filename = os.path.join(jobname, \"log.txt\")\n",
        "setup_logging(Path(log_filename))\n",
        "\n",
        "# Get queries and set model type\n",
        "queries, is_complex = get_queries(queries_path)\n",
        "model_type = set_model_type(is_complex, \"auto\") # auto selects multimer for complexes\n",
        "\n",
        "# Download model parameters\n",
        "download_alphafold_params(model_type, Path(\".\"))\n",
        "\n",
        "# Run the prediction with hardcoded settings\n",
        "results = run(\n",
        "    queries=queries,\n",
        "    result_dir=result_dir,\n",
        "    use_templates=False,\n",
        "    num_relax=0,\n",
        "    msa_mode=\"mmseqs2_uniref_env\", # Fast and effective MSA generation\n",
        "    model_type=model_type,\n",
        "    num_models=5,\n",
        "    num_recycles=3, # Standard number of recycles\n",
        "    num_seeds=1,    # Single seed for speed\n",
        "    use_dropout=False,\n",
        "    model_order=[1, 2, 3, 4, 5],\n",
        "    is_complex=is_complex,\n",
        "    data_dir=Path(\".\"),\n",
        "    keep_existing_results=False,\n",
        "    rank_by=\"auto\", # plddt for monomers, iptm for complexes\n",
        "    pair_mode=\"unpaired_paired\",\n",
        "    stop_at_score=100.0,\n",
        "    zip_results=False, # We will zip manually later\n",
        "    user_agent=\"colabfold/google-colab-main\",\n",
        ")\n",
        "\n",
        "# Package results into a zip file\n",
        "results_zip = f\"{jobname}.result.zip\"\n",
        "os.system(f\"zip -r {results_zip} {jobname}\")\n",
        "\n",
        "print(\"Prediction complete.\")"
      ],
      "metadata": {
        "cellView": "form",
        "id": "Uqp4ILIxFNKh"
      },
      "execution_count": null,
      "outputs": []
    },
    {
      "cell_type": "code",
      "source": [
        "#@title ▶️ Run ALyzer3D.AI Analysis\n",
        "import os\n",
        "import sys\n",
        "import glob\n",
        "from IPython.display import display, HTML\n",
        "\n",
        "print(\"✅ Step 1: Installing ALyzer3D.AI and its dependencies...\")\n",
        "# Clone your project repository\n",
        "!git clone https://github.com/petercmay89/ALyzer3D.AI.git > /dev/null 2>&1\n",
        "# Add your project to the Python path to make it importable\n",
        "sys.path.insert(0, '/content/ALyzer3D.AI')\n",
        "# Install only the extra dependencies your tool needs\n",
        "!pip install -q transformers scikit-learn joblib > /dev/null 2>&1\n",
        "\n",
        "print(\"\\n✅ Step 2: Loading your AI model...\")\n",
        "from prediction_tool import AmyloidPredictor\n",
        "\n",
        "try:\n",
        "    predictor = AmyloidPredictor(\n",
        "        model_dir=\"/content/ALyzer3D.AI/champion_v8_ensemble_modelv3\",\n",
        "        scaler_path=\"/content/ALyzer3D.AI/champion_v8_ensemble_modelv3/scalar_scaler_v8_ensemble.joblib\"\n",
        "    )\n",
        "    print(\" ✔️ Model loaded successfully.\")\n",
        "except Exception as e:\n",
        "    print(f\"❗️ Error loading model: {e}\")\n",
        "\n",
        "print(\"\\n✅ Step 3: Finding ColabFold output and running analysis...\")\n",
        "\n",
        "# Correctly use the `jobname` variable defined in the first cell\n",
        "search_path_pdb = f\"{jobname}/{jobname}_unrelaxed_rank_001*.pdb\"\n",
        "search_path_json = f\"{jobname}/{jobname}_scores_rank_001*.json\"\n",
        "\n",
        "pdb_files = glob.glob(search_path_pdb)\n",
        "json_files = glob.glob(search_path_json)\n",
        "\n",
        "if not pdb_files or not json_files:\n",
        "    print(f\"❗️ Error: Could not find output files inside the '{jobname}' folder. Please check the file browser on the left.\")\n",
        "else:\n",
        "    pdb_filename = pdb_files[0]\n",
        "    json_filename = json_files[0]\n",
        "    print(f\" - Found PDB: {pdb_filename}\")\n",
        "    print(f\" - Found JSON: {json_filename}\")\n",
        "\n",
        "    # Run the prediction\n",
        "    result = predictor.predict(pdb_path=pdb_filename, json_path=json_filename)\n",
        "\n",
        "    # Display the final formatted results\n",
        "    if result.get(\"error\"):\n",
        "        print(f\"❗️ An error occurred during analysis: {result['error']}\")\n",
        "    else:\n",
        "        prob = result['prediction_probability']\n",
        "        confidence_percent = prob * 100\n",
        "        risk_level = \"High Risk\" if prob > 0.7 else \"Medium Risk\" if prob > 0.4 else \"Low Risk\"\n",
        "        risk_color = \"#D32F2F\" if prob > 0.7 else \"#F57C00\" if prob > 0.4 else \"#388E3C\"\n",
        "        html_output = f\"\"\"\n",
        "        <div style=\"border: 2px solid {risk_color}; border-radius: 10px; padding: 20px; font-family: sans-serif; background-color: #f9f9f9; margin-top: 1em;\">\n",
        "        <h2 style=\"color: {risk_color}; margin-top: 0;\">ANALYSIS COMPLETE: {risk_level.upper()}</h2><hr>\n",
        "        <div style=\"display: grid; grid-template-columns: 150px 1fr; gap: 10px; align-items: center;\">\n",
        "        <strong style=\"font-size: 1.1em;\">Prediction:</strong>\n",
        "        <span style=\"font-size: 1.1em; font-weight: bold; color: {risk_color};\">{result['prediction_label'].upper()}</span>\n",
        "        <strong style=\"font-size: 1.1em;\">Confidence Score:</strong>\n",
        "        <div style=\"width: 100%; background-color: #e0e0e0; border-radius: 5px;\">\n",
        "        <div style=\"width: {confidence_percent}%; background-color: {risk_color}; color: white; text-align: center; padding: 2px 0; border-radius: 5px;\">\n",
        "        {confidence_percent:.2f}%\n",
        "        </div>\n",
        "        </div>\n",
        "        <strong style=\"vertical-align: top;\">Sequence:</strong>\n",
        "        <textarea readonly style=\"width: 100%; height: 60px; resize: none; border: 1px solid #ccc; font-family: monospace;\">{result['sequence']}</textarea>\n",
        "        </div>\n",
        "        </div>\n",
        "        \"\"\"\n",
        "        display(HTML(html_output))"
      ],
      "metadata": {
        "cellView": "form",
        "id": "vBF5nvZLFTt2"
      },
      "execution_count": null,
      "outputs": []
    },
    {
      "cell_type": "code",
      "source": [
        "#@title Download Results\n",
        "from google.colab import files\n",
        "\n",
        "# Download the zip file created in the prediction cell\n",
        "files.download(f\"{jobname}.result.zip\")"
      ],
      "metadata": {
        "id": "Gi1cLQMgFVXS",
        "cellView": "form"
      },
      "execution_count": null,
      "outputs": []
    },
    {
      "cell_type": "markdown",
      "source": [
        "# Instructions <a name=\"Instructions\"></a>\n",
        "For detailed instructions, tips and tricks on ColabFold, see recently published paper at [Nature Protocols](https://www.nature.com/articles/s41596-024-01060-5)"
      ],
      "metadata": {
        "id": "oZO-kwqaYH2L"
      }
    }
  ]
}